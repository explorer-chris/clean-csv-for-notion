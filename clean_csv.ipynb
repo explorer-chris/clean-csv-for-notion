{
 "cells": [
  {
   "cell_type": "code",
   "execution_count": null,
   "metadata": {},
   "outputs": [],
   "source": [
    "import glob\n",
    "import pathlib\n",
    "import pandas as pd\n",
    "\n",
    "path_to_glob = \"./data/\"\n",
    "path_output = \"./output\"\n",
    "\n",
    "csv_list = []\n",
    "csv_list.extend([str(i.absolute()) for i in pathlib.Path(path_to_glob).glob('*.csv')])\n",
    "\n",
    "print(csv_list)"
   ]
  },
  {
   "cell_type": "code",
   "execution_count": null,
   "metadata": {},
   "outputs": [],
   "source": [
    "def clean_and_write_new_csv_for_notion(input_file_list=None,print_only=True):\n",
    "    \"\"\"\n",
    "    Take the csv output from Google Meet Attendance. clean the metadata from the top of the file\n",
    "    and Write to a new well-named csv file that will import well into Notion\n",
    "    \"\"\"\n",
    "    if input_file_list is None or len(input_file_list) == 0:\n",
    "        return\n",
    "    else:\n",
    "        for csv in input_file_list:\n",
    "            with open(csv) as f:\n",
    "                read_data = f.readlines()\n",
    "                # in this file the pattern is 4 lines then the actual data\n",
    "                # extract needed data. This is a terrible hack but it works for now\n",
    "                meeting_name = read_data[0].split(\"*     \")[1].split('\"')[0]\n",
    "                meeting_name = meeting_name.replace(\"/\",\"_\")\n",
    "                meeting_time = read_data[2].split(\"on \")[1].split(\" \")[0]\n",
    "                csv_data = read_data[4:]\n",
    "                file_name = path_output + \"/\" + \"_\".join([meeting_name,meeting_time])+\".csv\"\n",
    "                if(print_only):\n",
    "                    print(file_name)\n",
    "                else:\n",
    "                    with open(file_name,'w') as g:\n",
    "                        g.writelines(csv_data)"
   ]
  },
  {
   "cell_type": "code",
   "execution_count": null,
   "metadata": {},
   "outputs": [],
   "source": [
    "clean_and_write_new_csv_for_notion(csv_list,False)"
   ]
  }
 ],
 "metadata": {
  "interpreter": {
   "hash": "3af2ab8e2f379a74cc7ae91ceacde8c5d672d380a8599cb541bdf002394a3802"
  },
  "kernelspec": {
   "display_name": "Python 3 (ipykernel)",
   "language": "python",
   "name": "python3"
  },
  "language_info": {
   "codemirror_mode": {
    "name": "ipython",
    "version": 3
   },
   "file_extension": ".py",
   "mimetype": "text/x-python",
   "name": "python",
   "nbconvert_exporter": "python",
   "pygments_lexer": "ipython3",
   "version": "3.8.11"
  }
 },
 "nbformat": 4,
 "nbformat_minor": 2
}
